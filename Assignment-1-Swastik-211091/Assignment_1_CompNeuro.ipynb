{
  "nbformat": 4,
  "nbformat_minor": 0,
  "metadata": {
    "colab": {
      "name": "Assignment-1 CompNeuro.ipynb",
      "provenance": []
    },
    "kernelspec": {
      "name": "python3",
      "display_name": "Python 3"
    },
    "language_info": {
      "name": "python"
    }
  },
  "cells": [
    {
      "cell_type": "markdown",
      "source": [
        "#Assignment-1 CompNeuro:"
      ],
      "metadata": {
        "id": "56xyZY5ZiVA_"
      }
    },
    {
      "cell_type": "markdown",
      "source": [
        "##Q1."
      ],
      "metadata": {
        "id": "X5-l8pvMie3e"
      }
    },
    {
      "cell_type": "code",
      "execution_count": 4,
      "metadata": {
        "id": "Z6ptTKB6n9Du",
        "colab": {
          "base_uri": "https://localhost:8080/"
        },
        "outputId": "28f22864-4f4f-45c2-b2dc-430010b1459b"
      },
      "outputs": [
        {
          "output_type": "stream",
          "name": "stdout",
          "text": [
            " P: print array (initially array is empty) \n",
            " A: add number \n",
            " S: sort array \n",
            " R: number at rth position if the array is sorted \n",
            " N: disallow/allow duplicate entries \n",
            " Q: quit \n",
            "\n",
            "Select from menu: P\n",
            "[]\n",
            " P: print array (initially array is empty) \n",
            " A: add number \n",
            " S: sort array \n",
            " R: number at rth position if the array is sorted \n",
            " N: disallow/allow duplicate entries \n",
            " Q: quit \n",
            "\n",
            "Select from menu: A\n",
            "Enter number you want to add in array:11\n",
            " P: print array (initially array is empty) \n",
            " A: add number \n",
            " S: sort array \n",
            " R: number at rth position if the array is sorted \n",
            " N: disallow/allow duplicate entries \n",
            " Q: quit \n",
            "\n",
            "Select from menu: A\n",
            "Enter number you want to add in array:99\n",
            " P: print array (initially array is empty) \n",
            " A: add number \n",
            " S: sort array \n",
            " R: number at rth position if the array is sorted \n",
            " N: disallow/allow duplicate entries \n",
            " Q: quit \n",
            "\n",
            "Select from menu: A\n",
            "Enter number you want to add in array:32\n",
            " P: print array (initially array is empty) \n",
            " A: add number \n",
            " S: sort array \n",
            " R: number at rth position if the array is sorted \n",
            " N: disallow/allow duplicate entries \n",
            " Q: quit \n",
            "\n",
            "Select from menu: A\n",
            "Enter number you want to add in array:11\n",
            " P: print array (initially array is empty) \n",
            " A: add number \n",
            " S: sort array \n",
            " R: number at rth position if the array is sorted \n",
            " N: disallow/allow duplicate entries \n",
            " Q: quit \n",
            "\n",
            "Select from menu: P\n",
            "[11. 99. 32. 11.]\n",
            " P: print array (initially array is empty) \n",
            " A: add number \n",
            " S: sort array \n",
            " R: number at rth position if the array is sorted \n",
            " N: disallow/allow duplicate entries \n",
            " Q: quit \n",
            "\n",
            "Select from menu: R\n",
            "Which position: 2\n",
            "Array not sorted. Sort array.\n",
            " P: print array (initially array is empty) \n",
            " A: add number \n",
            " S: sort array \n",
            " R: number at rth position if the array is sorted \n",
            " N: disallow/allow duplicate entries \n",
            " Q: quit \n",
            "\n",
            "Select from menu: S\n",
            "Choose large to small or small to large: large to small\n",
            "array was sorted! \n",
            "\n",
            " P: print array (initially array is empty) \n",
            " A: add number \n",
            " S: sort array \n",
            " R: number at rth position if the array is sorted \n",
            " N: disallow/allow duplicate entries \n",
            " Q: quit \n",
            "\n",
            "Select from menu: P\n",
            "[99. 32. 11. 11.]\n",
            " P: print array (initially array is empty) \n",
            " A: add number \n",
            " S: sort array \n",
            " R: number at rth position if the array is sorted \n",
            " N: disallow/allow duplicate entries \n",
            " Q: quit \n",
            "\n",
            "Select from menu: R\n",
            "Which position: 2\n",
            "11.0\n",
            " P: print array (initially array is empty) \n",
            " A: add number \n",
            " S: sort array \n",
            " R: number at rth position if the array is sorted \n",
            " N: disallow/allow duplicate entries \n",
            " Q: quit \n",
            "\n",
            "Select from menu: S\n",
            "Choose large to small or small to large: small to large\n",
            "array was sorted! \n",
            "\n",
            " P: print array (initially array is empty) \n",
            " A: add number \n",
            " S: sort array \n",
            " R: number at rth position if the array is sorted \n",
            " N: disallow/allow duplicate entries \n",
            " Q: quit \n",
            "\n",
            "Select from menu: P\n",
            "[11. 11. 32. 99.]\n",
            " P: print array (initially array is empty) \n",
            " A: add number \n",
            " S: sort array \n",
            " R: number at rth position if the array is sorted \n",
            " N: disallow/allow duplicate entries \n",
            " Q: quit \n",
            "\n",
            "Select from menu: R\n",
            "Which position: 2\n",
            "32.0\n",
            " P: print array (initially array is empty) \n",
            " A: add number \n",
            " S: sort array \n",
            " R: number at rth position if the array is sorted \n",
            " N: disallow/allow duplicate entries \n",
            " Q: quit \n",
            "\n",
            "Select from menu: N\n",
            " P: print array (initially array is empty) \n",
            " A: add number \n",
            " S: sort array \n",
            " R: number at rth position if the array is sorted \n",
            " N: disallow/allow duplicate entries \n",
            " Q: quit \n",
            "\n",
            "Select from menu: P\n",
            "[11. 32. 99.]\n",
            " P: print array (initially array is empty) \n",
            " A: add number \n",
            " S: sort array \n",
            " R: number at rth position if the array is sorted \n",
            " N: disallow/allow duplicate entries \n",
            " Q: quit \n",
            "\n",
            "Select from menu: A\n",
            "Enter number you want to add in array:11\n",
            "number already exist!\n",
            " P: print array (initially array is empty) \n",
            " A: add number \n",
            " S: sort array \n",
            " R: number at rth position if the array is sorted \n",
            " N: disallow/allow duplicate entries \n",
            " Q: quit \n",
            "\n",
            "Select from menu: N\n",
            " P: print array (initially array is empty) \n",
            " A: add number \n",
            " S: sort array \n",
            " R: number at rth position if the array is sorted \n",
            " N: disallow/allow duplicate entries \n",
            " Q: quit \n",
            "\n",
            "Select from menu: A\n",
            "Enter number you want to add in array:11\n",
            " P: print array (initially array is empty) \n",
            " A: add number \n",
            " S: sort array \n",
            " R: number at rth position if the array is sorted \n",
            " N: disallow/allow duplicate entries \n",
            " Q: quit \n",
            "\n",
            "Select from menu: P\n",
            "[11. 32. 99. 11.]\n",
            " P: print array (initially array is empty) \n",
            " A: add number \n",
            " S: sort array \n",
            " R: number at rth position if the array is sorted \n",
            " N: disallow/allow duplicate entries \n",
            " Q: quit \n",
            "\n",
            "Select from menu: Q\n",
            "THE END!\n"
          ]
        }
      ],
      "source": [
        "import numpy as np\n",
        "arr = []\n",
        "sor = 0\n",
        "temp=0\n",
        "rep=0\n",
        "int(sor)\n",
        "int(rep)\n",
        "print(\" P: print array (initially array is empty) \\n A: add number \\n S: sort array \\n R: number at rth position if the array is sorted \\n N: disallow/allow duplicate entries \\n Q: quit \\n\" \n",
        ")\n",
        "a= input(\"Select from menu: \")\n",
        "while a != \"Q\":\n",
        "    \n",
        "    if a == \"P\": #print\n",
        "        print(arr)\n",
        "        print(\" P: print array (initially array is empty) \\n A: add number \\n S: sort array \\n R: number at rth position if the array is sorted \\n N: disallow/allow duplicate entries \\n Q: quit \\n\" \n",
        ")\n",
        "    \n",
        "    elif a == \"A\": #add\n",
        "        num_add = int(input(\"Enter number you want to add in array:\"))\n",
        "        if rep % 2 != 0 and num_add in arr:\n",
        "            print(\"number already exist!\")\n",
        "\n",
        "        else: \n",
        "            arr= np.append(arr, num_add)\n",
        "        print(\" P: print array (initially array is empty) \\n A: add number \\n S: sort array \\n R: number at rth position if the array is sorted \\n N: disallow/allow duplicate entries \\n Q: quit \\n\" \n",
        ")\n",
        "\n",
        "    elif a == \"S\": #sort\n",
        "        sor = 1\n",
        "        choice= input(\"Choose large to small or small to large: \")\n",
        "        if choice == \"large to small\":\n",
        "            for i in range(0, len(arr)):    \n",
        "                for j in range(i+1, len(arr)):    \n",
        "                    if(arr[i] < arr[j]):    \n",
        "                        temp = arr[i];    \n",
        "                        arr[i] = arr[j];    \n",
        "                        arr[j] = temp;  \n",
        "\n",
        "        elif choice == \"small to large\":\n",
        "            arr.sort()\n",
        "        \n",
        "        print(\"array was sorted! \\n\")\n",
        "        print(\" P: print array (initially array is empty) \\n A: add number \\n S: sort array \\n R: number at rth position if the array is sorted \\n N: disallow/allow duplicate entries \\n Q: quit \\n\" \n",
        ")\n",
        "            \n",
        "        \n",
        "    elif a == \"R\": #number at rth entry\n",
        "            pos =int(input(\"Which position: \"))\n",
        "            \n",
        "            if sor != 0:\n",
        "                print(arr[pos])\n",
        "                \n",
        "            else:\n",
        "                print(\"Array not sorted. Sort array.\")\n",
        "            print(\" P: print array (initially array is empty) \\n A: add number \\n S: sort array \\n R: number at rth position if the array is sorted \\n N: disallow/allow duplicate entries \\n Q: quit \\n\" \n",
        ")\n",
        "    elif a == \"N\":\n",
        "        rep +=1\n",
        "        if rep%2 != 0:\n",
        "            arr = np.unique(arr)\n",
        "        print(\" P: print array (initially array is empty) \\n A: add number \\n S: sort array \\n R: number at rth position if the array is sorted \\n N: disallow/allow duplicate entries \\n Q: quit \\n\" \n",
        ")\n",
        "        \n",
        "    a = input(\"Select from menu: \")\n",
        "\n",
        "if a == \"Q\":\n",
        "  print(\"THE END!\")"
      ]
    },
    {
      "cell_type": "markdown",
      "source": [
        "##Q2."
      ],
      "metadata": {
        "id": "-eErFCN6iPrN"
      }
    },
    {
      "cell_type": "code",
      "source": [
        "import numpy as np\n",
        "import pandas as pd\n",
        "import matplotlib.pyplot as plt"
      ],
      "metadata": {
        "id": "uzrsFfeGoRem"
      },
      "execution_count": 5,
      "outputs": []
    },
    {
      "cell_type": "code",
      "source": [
        "data = pd.read_csv('https://raw.githubusercontent.com/sanikag20/BCS-Comp-Neuro/main/Q2%20Dataset.csv')\n",
        "df = pd.DataFrame(data)\n",
        "df.head()"
      ],
      "metadata": {
        "colab": {
          "base_uri": "https://localhost:8080/",
          "height": 386
        },
        "id": "n3xmJ-BLisVg",
        "outputId": "28ff801b-65f0-4c24-f998-b8ae21252e90"
      },
      "execution_count": 6,
      "outputs": [
        {
          "output_type": "execute_result",
          "data": {
            "text/plain": [
              "   customerID  gender  SeniorCitizen Partner Dependents  tenure PhoneService  \\\n",
              "0  7590-VHVEG  Female              0     Yes         No       1           No   \n",
              "1  5575-GNVDE    Male              0      No         No      34          Yes   \n",
              "2  3668-QPYBK    Male              0      No         No       2          Yes   \n",
              "3  7795-CFOCW    Male              0      No         No      45           No   \n",
              "4  9237-HQITU  Female              0      No         No       2          Yes   \n",
              "\n",
              "      MultipleLines InternetService OnlineSecurity  ... DeviceProtection  \\\n",
              "0  No phone service             DSL             No  ...               No   \n",
              "1                No             DSL            Yes  ...              Yes   \n",
              "2                No             DSL            Yes  ...               No   \n",
              "3  No phone service             DSL            Yes  ...              Yes   \n",
              "4                No     Fiber optic             No  ...               No   \n",
              "\n",
              "  TechSupport StreamingTV StreamingMovies        Contract PaperlessBilling  \\\n",
              "0          No          No              No  Month-to-month              Yes   \n",
              "1          No          No              No        One year               No   \n",
              "2          No          No              No  Month-to-month              Yes   \n",
              "3         Yes          No              No        One year               No   \n",
              "4          No          No              No  Month-to-month              Yes   \n",
              "\n",
              "               PaymentMethod MonthlyCharges  TotalCharges Churn  \n",
              "0           Electronic check          29.85         29.85    No  \n",
              "1               Mailed check          56.95        1889.5    No  \n",
              "2               Mailed check          53.85        108.15   Yes  \n",
              "3  Bank transfer (automatic)          42.30       1840.75    No  \n",
              "4           Electronic check          70.70        151.65   Yes  \n",
              "\n",
              "[5 rows x 21 columns]"
            ],
            "text/html": [
              "\n",
              "  <div id=\"df-90dec1a4-1397-473b-ac9a-e640903a9b97\">\n",
              "    <div class=\"colab-df-container\">\n",
              "      <div>\n",
              "<style scoped>\n",
              "    .dataframe tbody tr th:only-of-type {\n",
              "        vertical-align: middle;\n",
              "    }\n",
              "\n",
              "    .dataframe tbody tr th {\n",
              "        vertical-align: top;\n",
              "    }\n",
              "\n",
              "    .dataframe thead th {\n",
              "        text-align: right;\n",
              "    }\n",
              "</style>\n",
              "<table border=\"1\" class=\"dataframe\">\n",
              "  <thead>\n",
              "    <tr style=\"text-align: right;\">\n",
              "      <th></th>\n",
              "      <th>customerID</th>\n",
              "      <th>gender</th>\n",
              "      <th>SeniorCitizen</th>\n",
              "      <th>Partner</th>\n",
              "      <th>Dependents</th>\n",
              "      <th>tenure</th>\n",
              "      <th>PhoneService</th>\n",
              "      <th>MultipleLines</th>\n",
              "      <th>InternetService</th>\n",
              "      <th>OnlineSecurity</th>\n",
              "      <th>...</th>\n",
              "      <th>DeviceProtection</th>\n",
              "      <th>TechSupport</th>\n",
              "      <th>StreamingTV</th>\n",
              "      <th>StreamingMovies</th>\n",
              "      <th>Contract</th>\n",
              "      <th>PaperlessBilling</th>\n",
              "      <th>PaymentMethod</th>\n",
              "      <th>MonthlyCharges</th>\n",
              "      <th>TotalCharges</th>\n",
              "      <th>Churn</th>\n",
              "    </tr>\n",
              "  </thead>\n",
              "  <tbody>\n",
              "    <tr>\n",
              "      <th>0</th>\n",
              "      <td>7590-VHVEG</td>\n",
              "      <td>Female</td>\n",
              "      <td>0</td>\n",
              "      <td>Yes</td>\n",
              "      <td>No</td>\n",
              "      <td>1</td>\n",
              "      <td>No</td>\n",
              "      <td>No phone service</td>\n",
              "      <td>DSL</td>\n",
              "      <td>No</td>\n",
              "      <td>...</td>\n",
              "      <td>No</td>\n",
              "      <td>No</td>\n",
              "      <td>No</td>\n",
              "      <td>No</td>\n",
              "      <td>Month-to-month</td>\n",
              "      <td>Yes</td>\n",
              "      <td>Electronic check</td>\n",
              "      <td>29.85</td>\n",
              "      <td>29.85</td>\n",
              "      <td>No</td>\n",
              "    </tr>\n",
              "    <tr>\n",
              "      <th>1</th>\n",
              "      <td>5575-GNVDE</td>\n",
              "      <td>Male</td>\n",
              "      <td>0</td>\n",
              "      <td>No</td>\n",
              "      <td>No</td>\n",
              "      <td>34</td>\n",
              "      <td>Yes</td>\n",
              "      <td>No</td>\n",
              "      <td>DSL</td>\n",
              "      <td>Yes</td>\n",
              "      <td>...</td>\n",
              "      <td>Yes</td>\n",
              "      <td>No</td>\n",
              "      <td>No</td>\n",
              "      <td>No</td>\n",
              "      <td>One year</td>\n",
              "      <td>No</td>\n",
              "      <td>Mailed check</td>\n",
              "      <td>56.95</td>\n",
              "      <td>1889.5</td>\n",
              "      <td>No</td>\n",
              "    </tr>\n",
              "    <tr>\n",
              "      <th>2</th>\n",
              "      <td>3668-QPYBK</td>\n",
              "      <td>Male</td>\n",
              "      <td>0</td>\n",
              "      <td>No</td>\n",
              "      <td>No</td>\n",
              "      <td>2</td>\n",
              "      <td>Yes</td>\n",
              "      <td>No</td>\n",
              "      <td>DSL</td>\n",
              "      <td>Yes</td>\n",
              "      <td>...</td>\n",
              "      <td>No</td>\n",
              "      <td>No</td>\n",
              "      <td>No</td>\n",
              "      <td>No</td>\n",
              "      <td>Month-to-month</td>\n",
              "      <td>Yes</td>\n",
              "      <td>Mailed check</td>\n",
              "      <td>53.85</td>\n",
              "      <td>108.15</td>\n",
              "      <td>Yes</td>\n",
              "    </tr>\n",
              "    <tr>\n",
              "      <th>3</th>\n",
              "      <td>7795-CFOCW</td>\n",
              "      <td>Male</td>\n",
              "      <td>0</td>\n",
              "      <td>No</td>\n",
              "      <td>No</td>\n",
              "      <td>45</td>\n",
              "      <td>No</td>\n",
              "      <td>No phone service</td>\n",
              "      <td>DSL</td>\n",
              "      <td>Yes</td>\n",
              "      <td>...</td>\n",
              "      <td>Yes</td>\n",
              "      <td>Yes</td>\n",
              "      <td>No</td>\n",
              "      <td>No</td>\n",
              "      <td>One year</td>\n",
              "      <td>No</td>\n",
              "      <td>Bank transfer (automatic)</td>\n",
              "      <td>42.30</td>\n",
              "      <td>1840.75</td>\n",
              "      <td>No</td>\n",
              "    </tr>\n",
              "    <tr>\n",
              "      <th>4</th>\n",
              "      <td>9237-HQITU</td>\n",
              "      <td>Female</td>\n",
              "      <td>0</td>\n",
              "      <td>No</td>\n",
              "      <td>No</td>\n",
              "      <td>2</td>\n",
              "      <td>Yes</td>\n",
              "      <td>No</td>\n",
              "      <td>Fiber optic</td>\n",
              "      <td>No</td>\n",
              "      <td>...</td>\n",
              "      <td>No</td>\n",
              "      <td>No</td>\n",
              "      <td>No</td>\n",
              "      <td>No</td>\n",
              "      <td>Month-to-month</td>\n",
              "      <td>Yes</td>\n",
              "      <td>Electronic check</td>\n",
              "      <td>70.70</td>\n",
              "      <td>151.65</td>\n",
              "      <td>Yes</td>\n",
              "    </tr>\n",
              "  </tbody>\n",
              "</table>\n",
              "<p>5 rows × 21 columns</p>\n",
              "</div>\n",
              "      <button class=\"colab-df-convert\" onclick=\"convertToInteractive('df-90dec1a4-1397-473b-ac9a-e640903a9b97')\"\n",
              "              title=\"Convert this dataframe to an interactive table.\"\n",
              "              style=\"display:none;\">\n",
              "        \n",
              "  <svg xmlns=\"http://www.w3.org/2000/svg\" height=\"24px\"viewBox=\"0 0 24 24\"\n",
              "       width=\"24px\">\n",
              "    <path d=\"M0 0h24v24H0V0z\" fill=\"none\"/>\n",
              "    <path d=\"M18.56 5.44l.94 2.06.94-2.06 2.06-.94-2.06-.94-.94-2.06-.94 2.06-2.06.94zm-11 1L8.5 8.5l.94-2.06 2.06-.94-2.06-.94L8.5 2.5l-.94 2.06-2.06.94zm10 10l.94 2.06.94-2.06 2.06-.94-2.06-.94-.94-2.06-.94 2.06-2.06.94z\"/><path d=\"M17.41 7.96l-1.37-1.37c-.4-.4-.92-.59-1.43-.59-.52 0-1.04.2-1.43.59L10.3 9.45l-7.72 7.72c-.78.78-.78 2.05 0 2.83L4 21.41c.39.39.9.59 1.41.59.51 0 1.02-.2 1.41-.59l7.78-7.78 2.81-2.81c.8-.78.8-2.07 0-2.86zM5.41 20L4 18.59l7.72-7.72 1.47 1.35L5.41 20z\"/>\n",
              "  </svg>\n",
              "      </button>\n",
              "      \n",
              "  <style>\n",
              "    .colab-df-container {\n",
              "      display:flex;\n",
              "      flex-wrap:wrap;\n",
              "      gap: 12px;\n",
              "    }\n",
              "\n",
              "    .colab-df-convert {\n",
              "      background-color: #E8F0FE;\n",
              "      border: none;\n",
              "      border-radius: 50%;\n",
              "      cursor: pointer;\n",
              "      display: none;\n",
              "      fill: #1967D2;\n",
              "      height: 32px;\n",
              "      padding: 0 0 0 0;\n",
              "      width: 32px;\n",
              "    }\n",
              "\n",
              "    .colab-df-convert:hover {\n",
              "      background-color: #E2EBFA;\n",
              "      box-shadow: 0px 1px 2px rgba(60, 64, 67, 0.3), 0px 1px 3px 1px rgba(60, 64, 67, 0.15);\n",
              "      fill: #174EA6;\n",
              "    }\n",
              "\n",
              "    [theme=dark] .colab-df-convert {\n",
              "      background-color: #3B4455;\n",
              "      fill: #D2E3FC;\n",
              "    }\n",
              "\n",
              "    [theme=dark] .colab-df-convert:hover {\n",
              "      background-color: #434B5C;\n",
              "      box-shadow: 0px 1px 3px 1px rgba(0, 0, 0, 0.15);\n",
              "      filter: drop-shadow(0px 1px 2px rgba(0, 0, 0, 0.3));\n",
              "      fill: #FFFFFF;\n",
              "    }\n",
              "  </style>\n",
              "\n",
              "      <script>\n",
              "        const buttonEl =\n",
              "          document.querySelector('#df-90dec1a4-1397-473b-ac9a-e640903a9b97 button.colab-df-convert');\n",
              "        buttonEl.style.display =\n",
              "          google.colab.kernel.accessAllowed ? 'block' : 'none';\n",
              "\n",
              "        async function convertToInteractive(key) {\n",
              "          const element = document.querySelector('#df-90dec1a4-1397-473b-ac9a-e640903a9b97');\n",
              "          const dataTable =\n",
              "            await google.colab.kernel.invokeFunction('convertToInteractive',\n",
              "                                                     [key], {});\n",
              "          if (!dataTable) return;\n",
              "\n",
              "          const docLinkHtml = 'Like what you see? Visit the ' +\n",
              "            '<a target=\"_blank\" href=https://colab.research.google.com/notebooks/data_table.ipynb>data table notebook</a>'\n",
              "            + ' to learn more about interactive tables.';\n",
              "          element.innerHTML = '';\n",
              "          dataTable['output_type'] = 'display_data';\n",
              "          await google.colab.output.renderOutput(dataTable, element);\n",
              "          const docLink = document.createElement('div');\n",
              "          docLink.innerHTML = docLinkHtml;\n",
              "          element.appendChild(docLink);\n",
              "        }\n",
              "      </script>\n",
              "    </div>\n",
              "  </div>\n",
              "  "
            ]
          },
          "metadata": {},
          "execution_count": 6
        }
      ]
    },
    {
      "cell_type": "code",
      "source": [
        "df.count().unique()"
      ],
      "metadata": {
        "colab": {
          "base_uri": "https://localhost:8080/"
        },
        "id": "oISs8dIGiwn6",
        "outputId": "782fdc91-0db2-4682-a5ef-2121ccaff105"
      },
      "execution_count": 7,
      "outputs": [
        {
          "output_type": "execute_result",
          "data": {
            "text/plain": [
              "array([7043])"
            ]
          },
          "metadata": {},
          "execution_count": 7
        }
      ]
    },
    {
      "cell_type": "code",
      "source": [
        "df[(df[\"Churn\"] == \"Yes\")].count().unique()\n"
      ],
      "metadata": {
        "colab": {
          "base_uri": "https://localhost:8080/"
        },
        "id": "UFtHiup-i0xJ",
        "outputId": "da047dc8-b74e-48a3-fbfc-a07cb871673f"
      },
      "execution_count": 8,
      "outputs": [
        {
          "output_type": "execute_result",
          "data": {
            "text/plain": [
              "array([1869])"
            ]
          },
          "metadata": {},
          "execution_count": 8
        }
      ]
    },
    {
      "cell_type": "code",
      "source": [
        "print(\"                                                      Tenure and Monthly Charges\")\n",
        "plt.figure(figsize=(25, 15))\n",
        "\n",
        "X = list(df.iloc[0:10, 0])\n",
        "X_axis = np.arange(len(X))\n",
        "\n",
        "plt.subplot(2,2,1)\n",
        "\n",
        "Y1 = list(df.iloc[0:10, 5])\n",
        "Y2 = list(df.iloc[0:10, 18])\n",
        "plt.bar(X_axis - 0.2 , Y1, color='g',width = 0.4, label= \"Tenure\")\n",
        "plt.bar(X_axis + 0.2 , Y2, color=\"y\",width = 0.4, label = \"Monthly Charges\")\n",
        "plt.xlabel(\"CustomerID 0 to 9\")\n",
        "plt.ylabel(\"Tenure and Monthy Charges\")\n",
        "plt.legend()\n",
        "\n",
        "plt.subplot(2,2,2)\n",
        "\n",
        "Y3 = list(df.iloc[10:20, 5])\n",
        "Y4 = list(df.iloc[10:20, 18])\n",
        "plt.bar(X_axis - 0.2 , Y3, color='g',width = 0.4)\n",
        "plt.bar(X_axis + 0.2 , Y4, color=\"y\",width = 0.4)\n",
        "plt.xlabel(\"CustomerID 10 to 19\")\n",
        "\n",
        "plt.subplot(2,2,3)\n",
        "Y5 = list(df.iloc[20:30, 5])\n",
        "Y6 = list(df.iloc[20:30, 18])\n",
        "plt.bar(X_axis - 0.2 , Y5, color='g',width = 0.4)\n",
        "plt.bar(X_axis + 0.2 , Y6, color=\"y\",width = 0.4)\n",
        "plt.xlabel(\"CustomerID 20 to 29\")\n",
        "\n",
        "plt.subplot(2,2,4)\n",
        "\n",
        "Y7 = list(df.iloc[30:40, 5])\n",
        "Y8 = list(df.iloc[30:40, 18])\n",
        "plt.bar(X_axis - 0.2 , Y7, color='g',width = 0.4)\n",
        "plt.bar(X_axis + 0.2 , Y8, color=\"y\",width = 0.4)\n",
        "plt.xlabel(\"CustomerID 30 to 39\")\n",
        "\n",
        "\n",
        "\n",
        "plt.show()\n"
      ],
      "metadata": {
        "colab": {
          "base_uri": "https://localhost:8080/",
          "height": 771
        },
        "id": "RJyc9wv3i4sZ",
        "outputId": "3feddbb0-0cf4-4dec-cd80-b234a8883504"
      },
      "execution_count": 9,
      "outputs": [
        {
          "output_type": "stream",
          "name": "stdout",
          "text": [
            "                                                      Tenure and Monthly Charges\n"
          ]
        },
        {
          "output_type": "display_data",
          "data": {
            "text/plain": [
              "<Figure size 1800x1080 with 4 Axes>"
            ],
            "image/png": "[encoded data removed]"
          },
          "metadata": {
            "needs_background": "light"
          }
        }
      ]
    },
    {
      "cell_type": "markdown",
      "source": [
        "##Device Protection:"
      ],
      "metadata": {
        "id": "ltl1Yil3jF1u"
      }
    },
    {
      "cell_type": "code",
      "source": [
        "df[(df[\"Churn\"] == \"Yes\") & (df[\"DeviceProtection\"] == \"No\")].count().unique()"
      ],
      "metadata": {
        "colab": {
          "base_uri": "https://localhost:8080/"
        },
        "id": "xh5m9hiqjJk3",
        "outputId": "164c0200-4d4f-4f3f-89d8-65c51c823224"
      },
      "execution_count": 10,
      "outputs": [
        {
          "output_type": "execute_result",
          "data": {
            "text/plain": [
              "array([1211])"
            ]
          },
          "metadata": {},
          "execution_count": 10
        }
      ]
    },
    {
      "cell_type": "code",
      "source": [
        "df[(df[\"Churn\"] == \"Yes\") & (df[\"DeviceProtection\"] == \"Yes\")].count().unique()"
      ],
      "metadata": {
        "colab": {
          "base_uri": "https://localhost:8080/"
        },
        "id": "cX1pHepVjWh3",
        "outputId": "228ae445-b769-41ad-dc9a-0d9bdc7bb6a4"
      },
      "execution_count": 11,
      "outputs": [
        {
          "output_type": "execute_result",
          "data": {
            "text/plain": [
              "array([545])"
            ]
          },
          "metadata": {},
          "execution_count": 11
        }
      ]
    },
    {
      "cell_type": "markdown",
      "source": [
        "####People who churned and had no device protection : 1211\n",
        "####Total people who churned : 1869\n",
        "####About 64.79% people left their telecom services because they were not provided device protection"
      ],
      "metadata": {
        "id": "NRrKBe_xjdsl"
      }
    },
    {
      "cell_type": "markdown",
      "source": [
        "##Paperless billing:"
      ],
      "metadata": {
        "id": "mKJnrjcOj3om"
      }
    },
    {
      "cell_type": "code",
      "source": [
        "df[(df[\"Churn\"] == \"Yes\") & (df[\"PaperlessBilling\"] == \"No\")].count().unique()"
      ],
      "metadata": {
        "colab": {
          "base_uri": "https://localhost:8080/"
        },
        "id": "CLrfa7J8jnB0",
        "outputId": "c587fbcb-109e-4843-b655-7c2755fa266a"
      },
      "execution_count": 12,
      "outputs": [
        {
          "output_type": "execute_result",
          "data": {
            "text/plain": [
              "array([469])"
            ]
          },
          "metadata": {},
          "execution_count": 12
        }
      ]
    },
    {
      "cell_type": "code",
      "source": [
        "df[(df[\"Churn\"] == \"Yes\") & (df[\"PaperlessBilling\"] == \"Yes\")].count().unique()"
      ],
      "metadata": {
        "colab": {
          "base_uri": "https://localhost:8080/"
        },
        "id": "tpLX2zdcj753",
        "outputId": "9b6a7140-4294-48c5-c81e-8787953a8ac4"
      },
      "execution_count": 13,
      "outputs": [
        {
          "output_type": "execute_result",
          "data": {
            "text/plain": [
              "array([1400])"
            ]
          },
          "metadata": {},
          "execution_count": 13
        }
      ]
    },
    {
      "cell_type": "markdown",
      "source": [
        "####Customers Preferred paper billing over paperlessbilling. Percentage of customers that churned with paperless billing : 74.91%"
      ],
      "metadata": {
        "id": "V7DPa-HlkLY7"
      }
    },
    {
      "cell_type": "markdown",
      "source": [
        "##Internet Service:"
      ],
      "metadata": {
        "id": "MB42RDyjkZNP"
      }
    },
    {
      "cell_type": "code",
      "source": [
        "df[\"InternetService\"].unique()"
      ],
      "metadata": {
        "colab": {
          "base_uri": "https://localhost:8080/"
        },
        "id": "wGQNyN4yj_U4",
        "outputId": "ec74d8ca-eca8-4f02-9478-d17cf19aafb6"
      },
      "execution_count": 14,
      "outputs": [
        {
          "output_type": "execute_result",
          "data": {
            "text/plain": [
              "array(['DSL', 'Fiber optic', 'No'], dtype=object)"
            ]
          },
          "metadata": {},
          "execution_count": 14
        }
      ]
    },
    {
      "cell_type": "code",
      "source": [
        "df[(df[\"Churn\"] == \"Yes\") & (df[\"InternetService\"] == \"No\")].count().unique()"
      ],
      "metadata": {
        "colab": {
          "base_uri": "https://localhost:8080/"
        },
        "id": "o6euB45ykmKx",
        "outputId": "8eb1b015-8ad3-4dcf-8601-7aa64288cda3"
      },
      "execution_count": 15,
      "outputs": [
        {
          "output_type": "execute_result",
          "data": {
            "text/plain": [
              "array([113])"
            ]
          },
          "metadata": {},
          "execution_count": 15
        }
      ]
    },
    {
      "cell_type": "code",
      "source": [
        "df[(df[\"Churn\"] == \"Yes\") & (df[\"InternetService\"] == \"Fiber optic\")].count().unique()"
      ],
      "metadata": {
        "colab": {
          "base_uri": "https://localhost:8080/"
        },
        "id": "jH7FwHg8komM",
        "outputId": "caea982d-fac5-4f83-b028-5a03416ff11f"
      },
      "execution_count": 16,
      "outputs": [
        {
          "output_type": "execute_result",
          "data": {
            "text/plain": [
              "array([1297])"
            ]
          },
          "metadata": {},
          "execution_count": 16
        }
      ]
    },
    {
      "cell_type": "code",
      "source": [
        "df[(df[\"Churn\"] == \"Yes\") & (df[\"InternetService\"] == \"DSL\")].count().unique()"
      ],
      "metadata": {
        "colab": {
          "base_uri": "https://localhost:8080/"
        },
        "id": "qUFwQ6takt74",
        "outputId": "7c06af9e-0cf3-4fc1-c360-a0894213d013"
      },
      "execution_count": 17,
      "outputs": [
        {
          "output_type": "execute_result",
          "data": {
            "text/plain": [
              "array([459])"
            ]
          },
          "metadata": {},
          "execution_count": 17
        }
      ]
    },
    {
      "cell_type": "markdown",
      "source": [
        "####People who churned and had Fiber optic internet service : 69.40%\n",
        "####Therefore, most of the fiber optic using customers didn't like the service."
      ],
      "metadata": {
        "id": "gbK7U3clk0tf"
      }
    },
    {
      "cell_type": "markdown",
      "source": [
        "##Payment Method:"
      ],
      "metadata": {
        "id": "Xc2dGlLDk81f"
      }
    },
    {
      "cell_type": "code",
      "source": [
        "df[\"PaymentMethod\"].unique()"
      ],
      "metadata": {
        "colab": {
          "base_uri": "https://localhost:8080/"
        },
        "id": "vsWvF6_8kxU6",
        "outputId": "6ee1f709-b5df-45c3-cef4-deac4031638e"
      },
      "execution_count": 18,
      "outputs": [
        {
          "output_type": "execute_result",
          "data": {
            "text/plain": [
              "array(['Electronic check', 'Mailed check', 'Bank transfer (automatic)',\n",
              "       'Credit card (automatic)'], dtype=object)"
            ]
          },
          "metadata": {},
          "execution_count": 18
        }
      ]
    },
    {
      "cell_type": "code",
      "source": [
        "df[(df[\"Churn\"] == \"Yes\") & (df[\"PaymentMethod\"] == \"Electronic check\")].count().unique()"
      ],
      "metadata": {
        "colab": {
          "base_uri": "https://localhost:8080/"
        },
        "id": "cut3-02olCWN",
        "outputId": "7f47807b-e9e9-45a9-d022-f66430aaf1b7"
      },
      "execution_count": 19,
      "outputs": [
        {
          "output_type": "execute_result",
          "data": {
            "text/plain": [
              "array([1071])"
            ]
          },
          "metadata": {},
          "execution_count": 19
        }
      ]
    },
    {
      "cell_type": "code",
      "source": [
        "df[(df[\"Churn\"] == \"Yes\") & (df[\"PaymentMethod\"] == \"Electronic check\") & (df[\"SeniorCitizen\"] == 1)].count().unique()"
      ],
      "metadata": {
        "colab": {
          "base_uri": "https://localhost:8080/"
        },
        "id": "pyhchckllFKO",
        "outputId": "f075f633-727d-4f2c-e9ba-55461e2b2edc"
      },
      "execution_count": 20,
      "outputs": [
        {
          "output_type": "execute_result",
          "data": {
            "text/plain": [
              "array([317])"
            ]
          },
          "metadata": {},
          "execution_count": 20
        }
      ]
    },
    {
      "cell_type": "code",
      "source": [
        "df[(df[\"Churn\"] == \"Yes\") & (df[\"PaymentMethod\"] == \"Mailed check\")].count().unique()"
      ],
      "metadata": {
        "colab": {
          "base_uri": "https://localhost:8080/"
        },
        "id": "WNYFPwqKlHTj",
        "outputId": "dcd938e3-86b6-4823-975e-4d930594f086"
      },
      "execution_count": 21,
      "outputs": [
        {
          "output_type": "execute_result",
          "data": {
            "text/plain": [
              "array([308])"
            ]
          },
          "metadata": {},
          "execution_count": 21
        }
      ]
    },
    {
      "cell_type": "code",
      "source": [
        "df[(df[\"Churn\"] == \"Yes\") & (df[\"PaymentMethod\"] == \"Bank transfer (automatic)\")].count().unique()"
      ],
      "metadata": {
        "colab": {
          "base_uri": "https://localhost:8080/"
        },
        "id": "sLKdg2KMlKGt",
        "outputId": "b05a50d1-7c2f-43ff-9d4a-8635c13509f7"
      },
      "execution_count": 22,
      "outputs": [
        {
          "output_type": "execute_result",
          "data": {
            "text/plain": [
              "array([258])"
            ]
          },
          "metadata": {},
          "execution_count": 22
        }
      ]
    },
    {
      "cell_type": "code",
      "source": [
        "df[(df[\"Churn\"] == \"Yes\") & (df[\"PaymentMethod\"] == \"Credit card (automatic)\")].count().unique()"
      ],
      "metadata": {
        "colab": {
          "base_uri": "https://localhost:8080/"
        },
        "id": "B-oh_v3slMOQ",
        "outputId": "7bbdcd52-9f7b-4260-903f-1d9d79615a74"
      },
      "execution_count": 23,
      "outputs": [
        {
          "output_type": "execute_result",
          "data": {
            "text/plain": [
              "array([232])"
            ]
          },
          "metadata": {},
          "execution_count": 23
        }
      ]
    },
    {
      "cell_type": "markdown",
      "source": [
        "####People who had to pay via electronic check churned more than the customers that used other methods, percentage : 57.30%\n"
      ],
      "metadata": {
        "id": "AztXLH-hlSZ1"
      }
    },
    {
      "cell_type": "markdown",
      "source": [
        "##Online Security:"
      ],
      "metadata": {
        "id": "LRo0O7yKlXkX"
      }
    },
    {
      "cell_type": "code",
      "source": [
        "df[(df[\"Churn\"] == \"Yes\") & (df[\"OnlineSecurity\"] == \"No\")].count().unique()"
      ],
      "metadata": {
        "colab": {
          "base_uri": "https://localhost:8080/"
        },
        "id": "004eeLCBlPNC",
        "outputId": "bf4949d7-383d-4acb-8296-4fdf1a8f1f25"
      },
      "execution_count": 24,
      "outputs": [
        {
          "output_type": "execute_result",
          "data": {
            "text/plain": [
              "array([1461])"
            ]
          },
          "metadata": {},
          "execution_count": 24
        }
      ]
    },
    {
      "cell_type": "code",
      "source": [
        "df[(df[\"Churn\"] == \"Yes\") & (df[\"OnlineSecurity\"] == \"Yes\")].count().unique()"
      ],
      "metadata": {
        "colab": {
          "base_uri": "https://localhost:8080/"
        },
        "id": "DGxgjkxGlbSJ",
        "outputId": "def55953-5190-413f-bc4d-fe0045a505e8"
      },
      "execution_count": 25,
      "outputs": [
        {
          "output_type": "execute_result",
          "data": {
            "text/plain": [
              "array([295])"
            ]
          },
          "metadata": {},
          "execution_count": 25
        }
      ]
    },
    {
      "cell_type": "markdown",
      "source": [
        "####Customers who had no online security left the service alot. Percentage: 78.17%"
      ],
      "metadata": {
        "id": "z_Q506L9liIS"
      }
    },
    {
      "cell_type": "markdown",
      "source": [
        "##Contract:"
      ],
      "metadata": {
        "id": "HrOXP-IIlpe7"
      }
    },
    {
      "cell_type": "code",
      "source": [
        "df[df[\"Churn\"] == \"Yes\"].count().unique()"
      ],
      "metadata": {
        "colab": {
          "base_uri": "https://localhost:8080/"
        },
        "id": "pn3YD6A8ll3c",
        "outputId": "df20f283-a78b-4e6e-a0ba-0ad93d4482c8"
      },
      "execution_count": 26,
      "outputs": [
        {
          "output_type": "execute_result",
          "data": {
            "text/plain": [
              "array([1869])"
            ]
          },
          "metadata": {},
          "execution_count": 26
        }
      ]
    },
    {
      "cell_type": "code",
      "source": [
        "df[\"Contract\"].unique()"
      ],
      "metadata": {
        "colab": {
          "base_uri": "https://localhost:8080/"
        },
        "id": "izM67vbOluxH",
        "outputId": "45710e17-d0d6-45f3-e366-0c417cd930af"
      },
      "execution_count": 27,
      "outputs": [
        {
          "output_type": "execute_result",
          "data": {
            "text/plain": [
              "array(['Month-to-month', 'One year', 'Two year'], dtype=object)"
            ]
          },
          "metadata": {},
          "execution_count": 27
        }
      ]
    },
    {
      "cell_type": "code",
      "source": [
        "df[(df[\"Churn\"] == \"Yes\") & (df[\"Contract\"] == \"Month-to-month\")].count().unique()"
      ],
      "metadata": {
        "colab": {
          "base_uri": "https://localhost:8080/"
        },
        "id": "cngszRcmlxBs",
        "outputId": "19a83245-3c2b-47ec-e248-d3d479805114"
      },
      "execution_count": 28,
      "outputs": [
        {
          "output_type": "execute_result",
          "data": {
            "text/plain": [
              "array([1655])"
            ]
          },
          "metadata": {},
          "execution_count": 28
        }
      ]
    },
    {
      "cell_type": "code",
      "source": [
        "df[(df[\"Churn\"] == \"Yes\") & (df[\"Contract\"] == \"One year\")].count().unique()"
      ],
      "metadata": {
        "colab": {
          "base_uri": "https://localhost:8080/"
        },
        "id": "ROjOaFfZl0A-",
        "outputId": "c0906400-638e-4903-84f1-1a30586dbe52"
      },
      "execution_count": 29,
      "outputs": [
        {
          "output_type": "execute_result",
          "data": {
            "text/plain": [
              "array([166])"
            ]
          },
          "metadata": {},
          "execution_count": 29
        }
      ]
    },
    {
      "cell_type": "code",
      "source": [
        "df[(df[\"Churn\"] == \"Yes\") & (df[\"Contract\"] == \"Two year\")].count().unique()"
      ],
      "metadata": {
        "colab": {
          "base_uri": "https://localhost:8080/"
        },
        "id": "yi660ibBl2ly",
        "outputId": "1dcfe154-dd40-4129-896e-eed727117d8e"
      },
      "execution_count": 30,
      "outputs": [
        {
          "output_type": "execute_result",
          "data": {
            "text/plain": [
              "array([48])"
            ]
          },
          "metadata": {},
          "execution_count": 30
        }
      ]
    },
    {
      "cell_type": "markdown",
      "source": [
        "####About 88.55% of the customers who churned had their contract made for a month to month basis."
      ],
      "metadata": {
        "id": "XK1T6lsml9QG"
      }
    },
    {
      "cell_type": "markdown",
      "source": [
        "##Partner:"
      ],
      "metadata": {
        "id": "TmBsSx89mBc7"
      }
    },
    {
      "cell_type": "code",
      "source": [
        "df.columns"
      ],
      "metadata": {
        "colab": {
          "base_uri": "https://localhost:8080/"
        },
        "id": "6j2z_-K5l5b2",
        "outputId": "1f469f92-7906-47ea-95a5-f870a27f4018"
      },
      "execution_count": 31,
      "outputs": [
        {
          "output_type": "execute_result",
          "data": {
            "text/plain": [
              "Index(['customerID', 'gender', 'SeniorCitizen', 'Partner', 'Dependents',\n",
              "       'tenure', 'PhoneService', 'MultipleLines', 'InternetService',\n",
              "       'OnlineSecurity', 'OnlineBackup', 'DeviceProtection', 'TechSupport',\n",
              "       'StreamingTV', 'StreamingMovies', 'Contract', 'PaperlessBilling',\n",
              "       'PaymentMethod', 'MonthlyCharges', 'TotalCharges', 'Churn'],\n",
              "      dtype='object')"
            ]
          },
          "metadata": {},
          "execution_count": 31
        }
      ]
    },
    {
      "cell_type": "code",
      "source": [
        "df[\"Partner\"].unique()"
      ],
      "metadata": {
        "colab": {
          "base_uri": "https://localhost:8080/"
        },
        "id": "YXguctjWmIR3",
        "outputId": "6e3fcf50-b46e-4cde-f360-7a083de0b5ab"
      },
      "execution_count": 32,
      "outputs": [
        {
          "output_type": "execute_result",
          "data": {
            "text/plain": [
              "array(['Yes', 'No'], dtype=object)"
            ]
          },
          "metadata": {},
          "execution_count": 32
        }
      ]
    },
    {
      "cell_type": "code",
      "source": [
        "df[(df[\"Churn\"] == \"Yes\") & (df[\"Partner\"] == \"Yes\")].count().unique()"
      ],
      "metadata": {
        "colab": {
          "base_uri": "https://localhost:8080/"
        },
        "id": "vTMtXwQPmM5i",
        "outputId": "92f80fc0-85e0-489d-ba0c-44c961934ce9"
      },
      "execution_count": 33,
      "outputs": [
        {
          "output_type": "execute_result",
          "data": {
            "text/plain": [
              "array([669])"
            ]
          },
          "metadata": {},
          "execution_count": 33
        }
      ]
    },
    {
      "cell_type": "code",
      "source": [
        "df[(df[\"Churn\"] == \"Yes\") & (df[\"Partner\"] == \"No\")].count().unique()"
      ],
      "metadata": {
        "colab": {
          "base_uri": "https://localhost:8080/"
        },
        "id": "mEvjNaA8mPVN",
        "outputId": "a91d847f-b017-4827-efc4-08fdc2e33d75"
      },
      "execution_count": 34,
      "outputs": [
        {
          "output_type": "execute_result",
          "data": {
            "text/plain": [
              "array([1200])"
            ]
          },
          "metadata": {},
          "execution_count": 34
        }
      ]
    },
    {
      "cell_type": "markdown",
      "source": [
        "####Customers who didn't had any life partner changed their connection more than the other. Percentage: 64.20%"
      ],
      "metadata": {
        "id": "dZZl5_LRmUp6"
      }
    },
    {
      "cell_type": "markdown",
      "source": [
        "##TechSupport:"
      ],
      "metadata": {
        "id": "IYqyXKKpmZSo"
      }
    },
    {
      "cell_type": "code",
      "source": [
        "df[\"TechSupport\"].unique()"
      ],
      "metadata": {
        "colab": {
          "base_uri": "https://localhost:8080/"
        },
        "id": "lnoMe-YOmSGt",
        "outputId": "05aed9f8-cc41-4064-ade5-bada0c8d1b7b"
      },
      "execution_count": 35,
      "outputs": [
        {
          "output_type": "execute_result",
          "data": {
            "text/plain": [
              "array(['No', 'Yes', 'No internet service'], dtype=object)"
            ]
          },
          "metadata": {},
          "execution_count": 35
        }
      ]
    },
    {
      "cell_type": "code",
      "source": [
        "df[(df[\"Churn\"] == \"Yes\") & (df[\"TechSupport\"] == \"No\")].count().unique()"
      ],
      "metadata": {
        "colab": {
          "base_uri": "https://localhost:8080/"
        },
        "id": "BABxkWtRmckw",
        "outputId": "c4a8cc26-ea80-4c22-8e27-56e7390726ff"
      },
      "execution_count": 36,
      "outputs": [
        {
          "output_type": "execute_result",
          "data": {
            "text/plain": [
              "array([1446])"
            ]
          },
          "metadata": {},
          "execution_count": 36
        }
      ]
    },
    {
      "cell_type": "code",
      "source": [
        "df[(df[\"Churn\"] == \"Yes\") & (df[\"TechSupport\"] == \"Yes\")].count().unique()"
      ],
      "metadata": {
        "colab": {
          "base_uri": "https://localhost:8080/"
        },
        "id": "_VbfVQuWmfFk",
        "outputId": "cd531c66-c395-4068-d223-c1093134d933"
      },
      "execution_count": 37,
      "outputs": [
        {
          "output_type": "execute_result",
          "data": {
            "text/plain": [
              "array([310])"
            ]
          },
          "metadata": {},
          "execution_count": 37
        }
      ]
    },
    {
      "cell_type": "code",
      "source": [
        "df[(df[\"Churn\"] == \"Yes\") & (df[\"TechSupport\"] == \"No internet service\")].count().unique()"
      ],
      "metadata": {
        "colab": {
          "base_uri": "https://localhost:8080/"
        },
        "id": "QXX4n-IOmhUs",
        "outputId": "44e4b7e5-8793-47ad-b21e-69ec8144a6e5"
      },
      "execution_count": 38,
      "outputs": [
        {
          "output_type": "execute_result",
          "data": {
            "text/plain": [
              "array([113])"
            ]
          },
          "metadata": {},
          "execution_count": 38
        }
      ]
    },
    {
      "cell_type": "markdown",
      "source": [
        "####About 77.37% customers who churned didn't get any techsupport."
      ],
      "metadata": {
        "id": "oaLxUaAxmnRb"
      }
    },
    {
      "cell_type": "markdown",
      "source": [
        "##Online Backup:"
      ],
      "metadata": {
        "id": "8Pl_ef6kmrGd"
      }
    },
    {
      "cell_type": "code",
      "source": [
        "df[\"OnlineBackup\"].unique()"
      ],
      "metadata": {
        "colab": {
          "base_uri": "https://localhost:8080/"
        },
        "id": "Knle3j_CmjrU",
        "outputId": "9ae9c51a-9160-4770-a2bb-30bed6e7d948"
      },
      "execution_count": 39,
      "outputs": [
        {
          "output_type": "execute_result",
          "data": {
            "text/plain": [
              "array(['Yes', 'No', 'No internet service'], dtype=object)"
            ]
          },
          "metadata": {},
          "execution_count": 39
        }
      ]
    },
    {
      "cell_type": "code",
      "source": [
        "df[(df[\"Churn\"] == \"Yes\") & (df[\"OnlineBackup\"] == \"No\")].count().unique()"
      ],
      "metadata": {
        "colab": {
          "base_uri": "https://localhost:8080/"
        },
        "id": "Szq1PSAimuvz",
        "outputId": "7b316c07-1598-4fe0-f50e-c4a173087f35"
      },
      "execution_count": 40,
      "outputs": [
        {
          "output_type": "execute_result",
          "data": {
            "text/plain": [
              "array([1233])"
            ]
          },
          "metadata": {},
          "execution_count": 40
        }
      ]
    },
    {
      "cell_type": "code",
      "source": [
        "df[(df[\"Churn\"] == \"Yes\") & (df[\"OnlineBackup\"] == \"Yes\")].count().unique()"
      ],
      "metadata": {
        "colab": {
          "base_uri": "https://localhost:8080/"
        },
        "id": "RTKzhFjqmxLs",
        "outputId": "b9c116fd-e63e-4abf-8189-ebd4f7cde2ad"
      },
      "execution_count": 41,
      "outputs": [
        {
          "output_type": "execute_result",
          "data": {
            "text/plain": [
              "array([523])"
            ]
          },
          "metadata": {},
          "execution_count": 41
        }
      ]
    },
    {
      "cell_type": "code",
      "source": [
        "df[(df[\"Churn\"] == \"Yes\") & (df[\"OnlineBackup\"] == \"No internet service\")].count().unique()"
      ],
      "metadata": {
        "colab": {
          "base_uri": "https://localhost:8080/"
        },
        "id": "hvwomHbAmzlS",
        "outputId": "3c744d43-788b-4f03-fa49-f2a4cae5dca7"
      },
      "execution_count": 42,
      "outputs": [
        {
          "output_type": "execute_result",
          "data": {
            "text/plain": [
              "array([113])"
            ]
          },
          "metadata": {},
          "execution_count": 42
        }
      ]
    },
    {
      "cell_type": "markdown",
      "source": [
        "####About 65.97% of the customers who churned didn't had online backup."
      ],
      "metadata": {
        "id": "FKVHB4nsm5Uw"
      }
    },
    {
      "cell_type": "markdown",
      "source": [
        "##SeniorCitizen:"
      ],
      "metadata": {
        "id": "8HZnsL_7m8hV"
      }
    },
    {
      "cell_type": "code",
      "source": [
        "df[(df[\"Churn\"] == \"Yes\") & (df[\"SeniorCitizen\"] == 1)].count().unique()"
      ],
      "metadata": {
        "colab": {
          "base_uri": "https://localhost:8080/"
        },
        "id": "X9y5SdcLm2gl",
        "outputId": "ab951569-912b-4961-9e81-7f49cc1b1c1f"
      },
      "execution_count": 43,
      "outputs": [
        {
          "output_type": "execute_result",
          "data": {
            "text/plain": [
              "array([476])"
            ]
          },
          "metadata": {},
          "execution_count": 43
        }
      ]
    },
    {
      "cell_type": "code",
      "source": [
        "df[(df[\"Churn\"] == \"Yes\") & (df[\"SeniorCitizen\"] == 0)].count().unique()"
      ],
      "metadata": {
        "colab": {
          "base_uri": "https://localhost:8080/"
        },
        "id": "fhrR_UhAnCX4",
        "outputId": "daccbc6a-d21e-4fbe-f2ec-7ecaf096767f"
      },
      "execution_count": 44,
      "outputs": [
        {
          "output_type": "execute_result",
          "data": {
            "text/plain": [
              "array([1393])"
            ]
          },
          "metadata": {},
          "execution_count": 44
        }
      ]
    },
    {
      "cell_type": "markdown",
      "source": [
        "####About 74.53% of the customers who churned were youngsters."
      ],
      "metadata": {
        "id": "vtNeQvvYnH4m"
      }
    },
    {
      "cell_type": "code",
      "source": [
        "#sliced all records with churning to another dataframe\n",
        "df2 = df[(df[\"Churn\"] == \"Yes\")]\n",
        "df2.count().unique()"
      ],
      "metadata": {
        "colab": {
          "base_uri": "https://localhost:8080/"
        },
        "id": "G0muPWsRnFsa",
        "outputId": "39d5b190-7fc4-4bf5-aa64-1831ade1b357"
      },
      "execution_count": 45,
      "outputs": [
        {
          "output_type": "execute_result",
          "data": {
            "text/plain": [
              "array([1869])"
            ]
          },
          "metadata": {},
          "execution_count": 45
        }
      ]
    },
    {
      "cell_type": "code",
      "source": [
        "df2.columns"
      ],
      "metadata": {
        "colab": {
          "base_uri": "https://localhost:8080/"
        },
        "id": "eq9Uo7UUnL6I",
        "outputId": "30172ee9-29d8-481c-c0ca-cda9f3a8a9ee"
      },
      "execution_count": 46,
      "outputs": [
        {
          "output_type": "execute_result",
          "data": {
            "text/plain": [
              "Index(['customerID', 'gender', 'SeniorCitizen', 'Partner', 'Dependents',\n",
              "       'tenure', 'PhoneService', 'MultipleLines', 'InternetService',\n",
              "       'OnlineSecurity', 'OnlineBackup', 'DeviceProtection', 'TechSupport',\n",
              "       'StreamingTV', 'StreamingMovies', 'Contract', 'PaperlessBilling',\n",
              "       'PaymentMethod', 'MonthlyCharges', 'TotalCharges', 'Churn'],\n",
              "      dtype='object')"
            ]
          },
          "metadata": {},
          "execution_count": 46
        }
      ]
    },
    {
      "cell_type": "code",
      "source": [
        "df[\"MonthlyCharges\"].unique()"
      ],
      "metadata": {
        "colab": {
          "base_uri": "https://localhost:8080/"
        },
        "id": "sB7aB5vMnOMd",
        "outputId": "a3685698-6ec6-45f6-d4d0-b54532e0ec3f"
      },
      "execution_count": 47,
      "outputs": [
        {
          "output_type": "execute_result",
          "data": {
            "text/plain": [
              "array([29.85, 56.95, 53.85, ..., 63.1 , 44.2 , 78.7 ])"
            ]
          },
          "metadata": {},
          "execution_count": 47
        }
      ]
    },
    {
      "cell_type": "code",
      "source": [
        "plt.figure(figsize=(25, 15))\n",
        "plt.hist(np.array(df2[\"MonthlyCharges\"]))\n",
        "plt.show()  \n",
        "#customers who churned mostly belonged to those who had monthly charges in range (70,110)."
      ],
      "metadata": {
        "colab": {
          "base_uri": "https://localhost:8080/",
          "height": 748
        },
        "id": "gNRjAx6cnRK5",
        "outputId": "01ffc52d-e006-4424-ba68-13050a2e7c35"
      },
      "execution_count": 48,
      "outputs": [
        {
          "output_type": "display_data",
          "data": {
            "text/plain": [
              "<Figure size 1800x1080 with 1 Axes>"
            ],
            "image/png": "[encoded data removed]"
          },
          "metadata": {
            "needs_background": "light"
          }
        }
      ]
    },
    {
      "cell_type": "code",
      "source": [
        "plt.figure(figsize=(25, 15))\n",
        "plt.hist(np.array(df2[\"tenure\"]))\n",
        "plt.show() \n",
        "#as tenure increases churning rate decreases."
      ],
      "metadata": {
        "colab": {
          "base_uri": "https://localhost:8080/",
          "height": 748
        },
        "id": "XaiBEvI8nUPn",
        "outputId": "bd28c353-952a-4c5a-f6f0-8e0ad1d1507a"
      },
      "execution_count": 49,
      "outputs": [
        {
          "output_type": "display_data",
          "data": {
            "text/plain": [
              "<Figure size 1800x1080 with 1 Axes>"
            ],
            "image/png": "[encoded data removed]"
          },
          "metadata": {
            "needs_background": "light"
          }
        }
      ]
    },
    {
      "cell_type": "code",
      "source": [
        ""
      ],
      "metadata": {
        "id": "VssVVcUXnXdg"
      },
      "execution_count": null,
      "outputs": []
    }
  ]
}